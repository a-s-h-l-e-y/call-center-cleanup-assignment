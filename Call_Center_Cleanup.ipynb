{
 "cells": [
  {
   "cell_type": "markdown",
   "id": "331a1c4f",
   "metadata": {},
   "source": [
    "# Call Center Cleanup\n",
    "\n",
    "For this assignment, we will be working with call center data. You can start working on the assignment after the first lesson on Exploratory Data Analysis with pandas. Make sure to read the whole assignment before starting anything! As you code along in the Jupyter notebook, you are asked to make note of the results of your analysis. Do so by clicking on the results box and adding your notes beside each question.\n",
    "\n",
    "## Business Issue and Understanding\n",
    "\n",
    "You are working for a company that has two call centers: the North Call Center and the South Call Center. The company is looking to possibly hire five additional reps to enhance customer experience. Your task is to explore how efficient the current reps are in each branch to determine which branch would benefit from additional assistance.\n",
    "\n",
    "### How the Call Center Works\n",
    "\n",
    "Call center representatives are assigned queues. When calls are assigned to a queue, the call is assigned to the next person in line in the queue. After a call is assigned to a representative, the amount of time between assignment and the call starting is divided into busy minutes and not ready minutes. If the call is incoming and a customer is waiting on the phone for a rep, the time is split into three categories: busy minutes, not ready minutes, and incoming call wait time. Once the rep has the customer on the phone, there might be during call wait time, where the call is put on hold while the rep gets an answer for the customer.\n",
    "\n",
    "### Notes about the Dataset\n",
    "\n",
    "If you haven't worked in a call center before, these notes might help you throughout your analysis.\n",
    "\n",
    "* The call purpose is tagged for each call.\n",
    "* The time of the call is tagged in 1 hour blocks starting at 9:00 AM and ending at 5:00 PM.\n",
    "* Calls are tagged as incoming or outgoing.\n",
    "* Reps are assigned to queues. When the reps are working, they take calls in the order of their queue.\n",
    "* A call that is dropped due to technical error or missed by the center because they have reached maximum capacity is a lost call.\n",
    "* An abandoned call is when the customer hangs up because they have been waiting for too long.\n",
    "* Busy Minutes: the amount of time after a call comes in or needs to go out where the assigned rep is not available because they are busy with other customers.\n",
    "* Not Ready Minutes: the amount of time after a call comes in or needs to go out where the assigned rep is not available because they are not ready (for example, getting water).\n",
    "* Incoming Wait Time - amount of time after assigned rep is available to take the call customer waits for representative to pick up a call. This is tracked in seconds.\n",
    "* During Call Wait Time - amount of time during call that customer has to wait for representative\n",
    "\n",
    "## Getting Started\n",
    "\n",
    "You have two CSVs at your disposal, `NorthCallCenter.csv` and `SouthCallCenter.csv`. Import the appropriate libraries and create two dataframes, one called `north_df` and one called `south_df`."
   ]
  },
  {
   "cell_type": "code",
   "execution_count": 1,
   "id": "f362436b",
   "metadata": {},
   "outputs": [],
   "source": [
    "# Import the appropriate libraries with aliases\n",
    "import pandas as pd\n",
    "import matplotlib \n",
    "import matplotlib.pyplot as plt\n",
    "import numpy as np\n",
    "\n",
    "# Create two new dataframes\n",
    "north_df = pd.read_csv(\"NorthCallCenter.csv\")\n",
    "south_df = pd.read_csv(\"SouthCallCenter.csv\")\n"
   ]
  },
  {
   "cell_type": "markdown",
   "id": "b4d3484b",
   "metadata": {},
   "source": [
    "## Task 1: Exploratory Data Analysis\n",
    "\n",
    "Time to do some EDA! In the process of learning more about the two datasets, answer the following questions. Use the code blocks below to begin cleaning your data. At the end of the section, record your answers."
   ]
  },
  {
   "cell_type": "markdown",
   "id": "76898991",
   "metadata": {},
   "source": [
    "#### EDA Question 1A:  How many reps are in the North branch?  "
   ]
  },
  {
   "cell_type": "code",
   "execution_count": 2,
   "id": "bd61a08a",
   "metadata": {},
   "outputs": [
    {
     "data": {
      "text/plain": [
       "Index(['Unnamed: 0', 'Branch', 'Call Purpose', 'Time Block',\n",
       "       'Incoming or Outgoing', 'Queue', 'Rep ID', 'Sale', 'Lost Call',\n",
       "       'Abandoned', 'Busy Minutes', 'Not Ready Minutes', 'Incoming Wait Time',\n",
       "       'During Call Wait Time', 'Calls'],\n",
       "      dtype='object')"
      ]
     },
     "metadata": {},
     "output_type": "display_data"
    },
    {
     "data": {
      "text/plain": [
       "(245, 15)"
      ]
     },
     "metadata": {},
     "output_type": "display_data"
    }
   ],
   "source": [
    "# Initial Dataset Look @ columns\n",
    "\n",
    "display(north_df.columns)\n",
    "\n",
    "display(north_df.shape)"
   ]
  },
  {
   "cell_type": "code",
   "execution_count": 3,
   "id": "756c1d6f",
   "metadata": {},
   "outputs": [
    {
     "data": {
      "text/plain": [
       "(245, 15)"
      ]
     },
     "execution_count": 3,
     "metadata": {},
     "output_type": "execute_result"
    }
   ],
   "source": [
    "# Total CSV Rows and Columns\n",
    "\n",
    "north_df.shape"
   ]
  },
  {
   "cell_type": "code",
   "execution_count": 4,
   "id": "3fde4738",
   "metadata": {},
   "outputs": [
    {
     "data": {
      "text/html": [
       "<div>\n",
       "<style scoped>\n",
       "    .dataframe tbody tr th:only-of-type {\n",
       "        vertical-align: middle;\n",
       "    }\n",
       "\n",
       "    .dataframe tbody tr th {\n",
       "        vertical-align: top;\n",
       "    }\n",
       "\n",
       "    .dataframe thead th {\n",
       "        text-align: right;\n",
       "    }\n",
       "</style>\n",
       "<table border=\"1\" class=\"dataframe\">\n",
       "  <thead>\n",
       "    <tr style=\"text-align: right;\">\n",
       "      <th></th>\n",
       "      <th>Unnamed: 0</th>\n",
       "      <th>Branch</th>\n",
       "      <th>Call Purpose</th>\n",
       "      <th>Time Block</th>\n",
       "      <th>Incoming or Outgoing</th>\n",
       "      <th>Queue</th>\n",
       "      <th>Rep ID</th>\n",
       "      <th>Sale</th>\n",
       "      <th>Lost Call</th>\n",
       "      <th>Abandoned</th>\n",
       "      <th>Busy Minutes</th>\n",
       "      <th>Not Ready Minutes</th>\n",
       "      <th>Incoming Wait Time</th>\n",
       "      <th>During Call Wait Time</th>\n",
       "      <th>Calls</th>\n",
       "    </tr>\n",
       "  </thead>\n",
       "  <tbody>\n",
       "    <tr>\n",
       "      <th>0</th>\n",
       "      <td>0</td>\n",
       "      <td>North</td>\n",
       "      <td>Complaint</td>\n",
       "      <td>9:00 AM</td>\n",
       "      <td>Incoming</td>\n",
       "      <td>B</td>\n",
       "      <td>Brent</td>\n",
       "      <td>NO</td>\n",
       "      <td>0</td>\n",
       "      <td>1</td>\n",
       "      <td>9</td>\n",
       "      <td>2</td>\n",
       "      <td>1.0</td>\n",
       "      <td>4</td>\n",
       "      <td>1</td>\n",
       "    </tr>\n",
       "    <tr>\n",
       "      <th>1</th>\n",
       "      <td>1</td>\n",
       "      <td>North</td>\n",
       "      <td>Sales Support</td>\n",
       "      <td>11:00 AM</td>\n",
       "      <td>Incoming</td>\n",
       "      <td>A</td>\n",
       "      <td>Cam</td>\n",
       "      <td>NO</td>\n",
       "      <td>0</td>\n",
       "      <td>0</td>\n",
       "      <td>11</td>\n",
       "      <td>1</td>\n",
       "      <td>1.0</td>\n",
       "      <td>3</td>\n",
       "      <td>1</td>\n",
       "    </tr>\n",
       "    <tr>\n",
       "      <th>2</th>\n",
       "      <td>2</td>\n",
       "      <td>North</td>\n",
       "      <td>Sales Support</td>\n",
       "      <td>11:00 AM</td>\n",
       "      <td>Incoming</td>\n",
       "      <td>B</td>\n",
       "      <td>Todd</td>\n",
       "      <td>NO</td>\n",
       "      <td>0</td>\n",
       "      <td>0</td>\n",
       "      <td>9</td>\n",
       "      <td>3</td>\n",
       "      <td>1.0</td>\n",
       "      <td>3</td>\n",
       "      <td>1</td>\n",
       "    </tr>\n",
       "    <tr>\n",
       "      <th>3</th>\n",
       "      <td>3</td>\n",
       "      <td>North</td>\n",
       "      <td>Sales Support</td>\n",
       "      <td>4:00 PM</td>\n",
       "      <td>Incoming</td>\n",
       "      <td>B</td>\n",
       "      <td>Brent</td>\n",
       "      <td>NO</td>\n",
       "      <td>0</td>\n",
       "      <td>0</td>\n",
       "      <td>11</td>\n",
       "      <td>2</td>\n",
       "      <td>1.0</td>\n",
       "      <td>4</td>\n",
       "      <td>1</td>\n",
       "    </tr>\n",
       "    <tr>\n",
       "      <th>4</th>\n",
       "      <td>4</td>\n",
       "      <td>North</td>\n",
       "      <td>Product Support</td>\n",
       "      <td>12:00 PM</td>\n",
       "      <td>Incoming</td>\n",
       "      <td>B</td>\n",
       "      <td>Brent</td>\n",
       "      <td>NO</td>\n",
       "      <td>0</td>\n",
       "      <td>0</td>\n",
       "      <td>8</td>\n",
       "      <td>2</td>\n",
       "      <td>1.0</td>\n",
       "      <td>4</td>\n",
       "      <td>1</td>\n",
       "    </tr>\n",
       "  </tbody>\n",
       "</table>\n",
       "</div>"
      ],
      "text/plain": [
       "   Unnamed: 0 Branch     Call Purpose Time Block Incoming or Outgoing Queue  \\\n",
       "0           0  North        Complaint    9:00 AM             Incoming     B   \n",
       "1           1  North    Sales Support   11:00 AM             Incoming     A   \n",
       "2           2  North    Sales Support   11:00 AM             Incoming     B   \n",
       "3           3  North    Sales Support    4:00 PM             Incoming     B   \n",
       "4           4  North  Product Support   12:00 PM             Incoming     B   \n",
       "\n",
       "  Rep ID Sale  Lost Call  Abandoned  Busy Minutes  Not Ready Minutes  \\\n",
       "0  Brent   NO          0          1             9                  2   \n",
       "1    Cam   NO          0          0            11                  1   \n",
       "2   Todd   NO          0          0             9                  3   \n",
       "3  Brent   NO          0          0            11                  2   \n",
       "4  Brent   NO          0          0             8                  2   \n",
       "\n",
       "   Incoming Wait Time  During Call Wait Time  Calls  \n",
       "0                 1.0                      4      1  \n",
       "1                 1.0                      3      1  \n",
       "2                 1.0                      3      1  \n",
       "3                 1.0                      4      1  \n",
       "4                 1.0                      4      1  "
      ]
     },
     "execution_count": 4,
     "metadata": {},
     "output_type": "execute_result"
    }
   ],
   "source": [
    "# Sneak Peek First 5\n",
    "\n",
    "north_df.head(5)"
   ]
  },
  {
   "cell_type": "code",
   "execution_count": 5,
   "id": "ce3eb5e4",
   "metadata": {},
   "outputs": [
    {
     "name": "stdout",
     "output_type": "stream",
     "text": [
      "** There are 9 call center reps in the North Branch **\n"
     ]
    }
   ],
   "source": [
    "# EDA Question 1A solution below:\n",
    "\n",
    "# Query total north reps\n",
    "\n",
    "north_reps = len(north_df[\"Rep ID\"].unique())\n",
    "\n",
    "print(f\"** There are \" + str(north_reps) + \" call center reps in the North Branch **\")"
   ]
  },
  {
   "cell_type": "markdown",
   "id": "2a9b34d8",
   "metadata": {},
   "source": [
    "#### EDA Question 1B:  How many reps are in the South branch?  "
   ]
  },
  {
   "cell_type": "code",
   "execution_count": 6,
   "id": "3c715bbf",
   "metadata": {},
   "outputs": [
    {
     "name": "stdout",
     "output_type": "stream",
     "text": [
      "** There are 11 call center reps in the South Branch **\n"
     ]
    }
   ],
   "source": [
    "# EDA Question 1B solution Below:\n",
    "\n",
    "# Query total south reps\n",
    "\n",
    "south_reps = len(south_df[\"Rep ID\"].unique())\n",
    "\n",
    "print(f\"** There are \" + str(south_reps) + \" call center reps in the South Branch **\")"
   ]
  },
  {
   "cell_type": "markdown",
   "id": "a872f045",
   "metadata": {},
   "source": [
    "#### EDA Question 2A:  What is the average busy minutes, not ready minutes, incoming wait time, and during call wait time for the North branch? "
   ]
  },
  {
   "cell_type": "code",
   "execution_count": 7,
   "id": "3759305f",
   "metadata": {},
   "outputs": [
    {
     "name": "stdout",
     "output_type": "stream",
     "text": [
      "       Busy Minutes During Call Wait Time Incoming Wait Time Not Ready Minutes\n",
      "               mean                  mean               mean              mean\n",
      "Branch                                                                        \n",
      "North          9.99                  2.97               3.05              1.91\n"
     ]
    }
   ],
   "source": [
    "# EDA Question 2A solution Below:\n",
    "\n",
    "# Pivot table by branch and multiple columns to find average(mean) for north branch\n",
    "\n",
    "pivot_table = north_df.pivot_table( index='Branch', \n",
    "                                    values=['Busy Minutes', 'Not Ready Minutes','Incoming Wait Time','During Call Wait Time'], \n",
    "                                    aggfunc={'mean'} ).round(2)\n",
    "print(pivot_table)"
   ]
  },
  {
   "cell_type": "markdown",
   "id": "3851cf3e",
   "metadata": {},
   "source": [
    "#### EDA Question 2B:  What is the average busy minutes, not ready minutes, incoming wait time, and during call wait time for the South branch? "
   ]
  },
  {
   "cell_type": "code",
   "execution_count": 8,
   "id": "a77ec152",
   "metadata": {},
   "outputs": [
    {
     "name": "stdout",
     "output_type": "stream",
     "text": [
      "       Busy Minutes During Call Wait Time Incoming Wait Time Not Ready Minutes\n",
      "               mean                  mean               mean              mean\n",
      "Branch                                                                        \n",
      "South         10.05                  3.08                3.0              1.91\n"
     ]
    }
   ],
   "source": [
    "# EDA Question 2B solution Below:\n",
    "\n",
    "# Pivot table by branch and multiple columns to find average(mean) for south branch\n",
    "\n",
    "pivot_table = south_df.pivot_table( index='Branch', \n",
    "                                    values=['Busy Minutes', 'Not Ready Minutes','Incoming Wait Time','During Call Wait Time'], \n",
    "                                    aggfunc={'mean'} ).round(2)\n",
    "print(pivot_table)"
   ]
  },
  {
   "cell_type": "markdown",
   "id": "75915553",
   "metadata": {},
   "source": [
    "#### EDA Question 3:  What is the number of calls taken for each time block(Both North and South combined)?"
   ]
  },
  {
   "cell_type": "code",
   "execution_count": 9,
   "id": "49566936",
   "metadata": {},
   "outputs": [
    {
     "data": {
      "text/plain": [
       "10:00 AM     99\n",
       "11:00 AM     56\n",
       "12:00 PM    120\n",
       "1:00 PM      40\n",
       "2:00 PM      65\n",
       "3:00 PM      73\n",
       "4:00 PM      53\n",
       "5:00 PM      43\n",
       "9:00 AM      10\n",
       "Name: Time Block, dtype: int64"
      ]
     },
     "execution_count": 9,
     "metadata": {},
     "output_type": "execute_result"
    }
   ],
   "source": [
    "# EDA Question 3 solution Below:\n",
    "\n",
    "# Find the sum of the number of calls by time block for both north and south call centers\n",
    "\n",
    "north_df[\"Time Block\"].value_counts() + south_df[\"Time Block\"].value_counts()"
   ]
  },
  {
   "cell_type": "markdown",
   "id": "40b1fd3f",
   "metadata": {},
   "source": [
    "##### Record your answers for the EDA section below:\n",
    "- 1a) Reps in the North Branch = 9\n",
    "- 1b) Reps in the South Branch = 11\n",
    "\n",
    "\n",
    "- 2a) North Branch, (round to the nearest hundredth):\n",
    "> - Busy Minutes = 9.99\n",
    "> - Not Ready Minutes = 1.91\n",
    "> - Incoming Wait Time = 3.05\n",
    "> - During Call Wait Time = 2.97\n",
    "\n",
    "- 2b) South Branch, (round to the nearest hundredth):\n",
    "> - Busy Minutes = 10.05\n",
    "> - Not Ready Minutes = 1.91\n",
    "> - Incoming Wait Time = 3.00\n",
    "> - During Call Wait Time = 3.08\n",
    "\n",
    "- 3) Total Calls taken for all branches per time block:\n",
    "> - 9:00AM   = 10\n",
    "> - 10:00AM  = 99\n",
    "> - 11:00AM  = 56\n",
    "> - 12:00PM  = 120\n",
    "> - 1:00PM   = 40\n",
    "> - 2:00PM   = 65\n",
    "> - 3:00PM   = 73\n",
    "> - 4:00PM   = 53\n",
    "> - 5:00PM   = 43\n",
    "\n"
   ]
  },
  {
   "cell_type": "markdown",
   "id": "366bfb19",
   "metadata": {},
   "source": [
    "## Task 2: Cleaning Your Data \n",
    "Now you need to clean up the datasets. When cleaning the datasets, you may find that there isn't dirty data to clean. That is okay! Some questions you need to answer about the data sets.\n",
    "* Add additional code blocks as needed to show how you came to your conclusions. Add comments in your code blocks to help others understand your thinking. "
   ]
  },
  {
   "cell_type": "markdown",
   "id": "c3564d69",
   "metadata": {},
   "source": [
    "#### Cleaning Question 1:  Is there any missing data and if yes explain what you would do with the missing data and why?"
   ]
  },
  {
   "cell_type": "code",
   "execution_count": 10,
   "id": "b77fb574",
   "metadata": {},
   "outputs": [
    {
     "data": {
      "text/plain": [
       "Unnamed: 0                 0\n",
       "Branch                     0\n",
       "Call Purpose               0\n",
       "Time Block                 0\n",
       "Incoming or Outgoing       0\n",
       "Queue                      0\n",
       "Rep ID                     0\n",
       "Sale                       0\n",
       "Lost Call                  0\n",
       "Abandoned                  0\n",
       "Busy Minutes               0\n",
       "Not Ready Minutes          0\n",
       "Incoming Wait Time       163\n",
       "During Call Wait Time      0\n",
       "Calls                      0\n",
       "dtype: int64"
      ]
     },
     "execution_count": 10,
     "metadata": {},
     "output_type": "execute_result"
    }
   ],
   "source": [
    "# Question 1 solution below\n",
    "\n",
    "north_df.isnull().sum()"
   ]
  },
  {
   "cell_type": "code",
   "execution_count": 11,
   "id": "67db58a3",
   "metadata": {},
   "outputs": [
    {
     "data": {
      "text/plain": [
       "Unnamed: 0                 0\n",
       "Branch                     0\n",
       "Call Purpose               0\n",
       "Time Block                 0\n",
       "Incoming or Outgoing       0\n",
       "Queue                      0\n",
       "Rep ID                     0\n",
       "Sale                       0\n",
       "Lost Call                  0\n",
       "Abandoned                  0\n",
       "Busy Minutes               0\n",
       "Not Ready Minutes          0\n",
       "Incoming Wait Time       188\n",
       "During Call Wait Time      0\n",
       "Calls                      0\n",
       "dtype: int64"
      ]
     },
     "execution_count": 11,
     "metadata": {},
     "output_type": "execute_result"
    }
   ],
   "source": [
    "south_df.isnull().sum()"
   ]
  },
  {
   "cell_type": "markdown",
   "id": "0dc5c568-40db-4889-b82b-64610d8058d2",
   "metadata": {},
   "source": [
    "#### Record your answer below:\n",
    "\n",
    "> Your Answer: Yes there are records with missing data but I would expect some rows not to have incoming wait time if it wasn't an incoming call."
   ]
  },
  {
   "cell_type": "markdown",
   "id": "dc47f020",
   "metadata": {},
   "source": [
    "#### Cleaning Question 2:  In the North data set, there are two separate \"YES\" values for a sale. Why and how did you rectify the issue?"
   ]
  },
  {
   "cell_type": "code",
   "execution_count": 12,
   "id": "4e0fbad6",
   "metadata": {},
   "outputs": [],
   "source": [
    "# Cleaning Question 2 solution below:\n",
    "\n",
    "# Find the Two 'values' for YES\n",
    "north_df_sale = north_df['Sale'].unique()\n",
    "\n",
    "# Remove the extra space from the column values\n",
    "north_df['Sale'] = north_df['Sale'].str.rstrip() "
   ]
  },
  {
   "cell_type": "markdown",
   "id": "cf81b612-eb6b-45a6-ac8e-d6f4e08131a8",
   "metadata": {},
   "source": [
    "##### Record your answer by below:\n",
    "> Your Answer: I needed to find the two values for yes. I used the unique method to find the values. Then, I removed the extra space using the rstrip() function"
   ]
  },
  {
   "cell_type": "markdown",
   "id": "715f375a",
   "metadata": {},
   "source": [
    "#### Cleaning Question 3:  Are there duplicates in the two data sets? If there are, how did you handle them?"
   ]
  },
  {
   "cell_type": "code",
   "execution_count": 13,
   "id": "2323673a",
   "metadata": {},
   "outputs": [
    {
     "name": "stdout",
     "output_type": "stream",
     "text": [
      "Empty DataFrame\n",
      "Columns: [Unnamed: 0, Branch, Call Purpose, Time Block, Incoming or Outgoing, Queue, Rep ID, Sale, Lost Call, Abandoned, Busy Minutes, Not Ready Minutes, Incoming Wait Time, During Call Wait Time, Calls]\n",
      "Index: []\n"
     ]
    },
    {
     "data": {
      "text/plain": [
       "None"
      ]
     },
     "metadata": {},
     "output_type": "display_data"
    },
    {
     "name": "stdout",
     "output_type": "stream",
     "text": [
      "Empty DataFrame\n",
      "Columns: [Unnamed: 0, Branch, Call Purpose, Time Block, Incoming or Outgoing, Queue, Rep ID, Sale, Lost Call, Abandoned, Busy Minutes, Not Ready Minutes, Incoming Wait Time, During Call Wait Time, Calls]\n",
      "Index: []\n"
     ]
    },
    {
     "data": {
      "text/plain": [
       "None"
      ]
     },
     "metadata": {},
     "output_type": "display_data"
    }
   ],
   "source": [
    "# Cleaning Question 3 solution below:\n",
    "\n",
    "north_duplicates = north_df[north_df.duplicated(keep=False)]\n",
    "\n",
    "display(print(north_duplicates))\n",
    "\n",
    "south_duplicates = south_df[south_df.duplicated(keep=False)]\n",
    "\n",
    "display(print(south_duplicates))"
   ]
  },
  {
   "cell_type": "markdown",
   "id": "4fbfe2e8-490a-48dc-b0ca-599879076c62",
   "metadata": {},
   "source": [
    "##### Record your answer below:\n",
    "> Your Answer: N/A"
   ]
  },
  {
   "cell_type": "markdown",
   "id": "8ffaa865",
   "metadata": {},
   "source": [
    "#### Cleaning Question 4:  Is any of the data in the two data sets unnecessary? If yes, how did you handle it?"
   ]
  },
  {
   "cell_type": "code",
   "execution_count": 14,
   "id": "78b45e70",
   "metadata": {},
   "outputs": [],
   "source": [
    "# Cleaning Question 4 solution below:\n",
    "\n",
    "# Drop any unnecessary Columns or Rows\n",
    "\n"
   ]
  },
  {
   "cell_type": "markdown",
   "id": "689e76b9-64d2-45d7-883a-b8c4d822e0c8",
   "metadata": {},
   "source": [
    "##### Record your answer below:\n",
    "> Your Answer: As of now I believe all the data may be necessary for visualizations or further insight. If it was unnecessary I would drop the data or create a subset of the data frame without the bloat information"
   ]
  },
  {
   "cell_type": "markdown",
   "id": "73342a9a",
   "metadata": {},
   "source": [
    "## Task 3: Data Manipulation\n",
    "Before you begin answering any questions, combine the two datasets together to create a third dataframe called df. You can use this third dataframe to compare the two call centers to company-wide trends.\n",
    "* Add additional code blocks as needed to show how you came to your conclusions. Add comments in your code blocks to help others understand your thinking. Record your answer below."
   ]
  },
  {
   "cell_type": "code",
   "execution_count": 15,
   "id": "e9705c34",
   "metadata": {},
   "outputs": [
    {
     "name": "stdout",
     "output_type": "stream",
     "text": [
      "   Unnamed: 0 Branch     Call Purpose Time Block Incoming or Outgoing Queue Rep ID Sale  Lost Call  Abandoned  Busy Minutes  Not Ready Minutes  Incoming Wait Time  During Call Wait Time  Calls\n",
      "0           0  North        Complaint    9:00 AM             Incoming     B  Brent   NO          0          1             9                  2                 1.0                      4      1\n",
      "1           1  North    Sales Support   11:00 AM             Incoming     A    Cam   NO          0          0            11                  1                 1.0                      3      1\n",
      "2           2  North    Sales Support   11:00 AM             Incoming     B   Todd   NO          0          0             9                  3                 1.0                      3      1\n",
      "3           3  North    Sales Support    4:00 PM             Incoming     B  Brent   NO          0          0            11                  2                 1.0                      4      1\n",
      "4           4  North  Product Support   12:00 PM             Incoming     B  Brent   NO          0          0             8                  2                 1.0                      4      1\n",
      "5           5  North  Product Support    2:00 PM             Incoming     B   Duke   NO          0          0            12                  2                 1.0                      2      1\n",
      "6           6  North  Product Support    2:00 PM             Incoming     A    Joe   NO          0          0             8                  1                 1.0                      3      1\n",
      "7           7  North  Product Support    2:00 PM             Incoming     B  Lilly   NO          0          0            11                  2                 1.0                      3      1\n",
      "8           8  North  Product Support    3:00 PM             Incoming     B   Duke   NO          0          0            12                  2                 1.0                      4      1\n",
      "9           9  North  Product Support    3:00 PM             Incoming     A    Cam   NO          0          0            11                  3                 1.0                      4      1\n"
     ]
    }
   ],
   "source": [
    "# Create dataframe for the entire company named df\n",
    "\n",
    "# Use Concatenate to combine both the north and south dataframes\n",
    "df = pd.concat([north_df, south_df], axis=0)\n",
    "\n",
    "# Check to make sure it worked\n",
    "print(df.head(10).to_string())\n"
   ]
  },
  {
   "cell_type": "markdown",
   "id": "7e87dfd1",
   "metadata": {},
   "source": [
    "#### Manipulation Question 1:  Group by Rep ID and sum the resulting structure. Sort by calls to determine which rep in each branch has the highest number of calls."
   ]
  },
  {
   "cell_type": "code",
   "execution_count": 16,
   "id": "3953f09a",
   "metadata": {},
   "outputs": [
    {
     "name": "stdout",
     "output_type": "stream",
     "text": [
      "        Unnamed: 0  Lost Call  Abandoned  Busy Minutes  Not Ready Minutes  Incoming Wait Time  During Call Wait Time  Calls\n",
      "Rep ID                                                                                                                     \n",
      "Brent         4840          0          1           362                 71                17.0                    117     37\n",
      "Eric          5039          0          0           361                 54                47.0                    112     35\n",
      "Randy         4576          3          1           320                 66                47.0                     98     33\n",
      "Sandy         4694          1          0           325                 60                34.0                    100     32\n",
      "Helga         5236          0          2           292                 58                36.0                     95     31\n",
      "Lilly         3375          0          2           307                 59                37.0                     88     30\n",
      "Todd          4252          1          0           296                 58                21.0                     97     29\n",
      "Duke          2999          2          0           292                 56                39.0                     85     29\n",
      "George        4620          0          0           298                 53                41.0                     87     29\n",
      "Kate          4615          0          0           291                 61                37.0                     83     29\n",
      "Karl          4532          1          0           287                 61                26.0                     85     28\n",
      "Josh          3960          3          0           260                 50                31.0                     83     26\n",
      "Susan         4006          2          0           267                 53                35.0                     88     26\n",
      "Joe           3178          0          0           256                 49                36.0                     81     26\n",
      "Sharon        4226          1          1           257                 38                29.0                     77     25\n",
      "Xander        3340          1          0           244                 44                20.0                     68     24\n",
      "Cam           2746          1          0           233                 46                32.0                     66     24\n",
      "Amanda        2666          0          1           229                 43                12.0                     60     23\n",
      "Andy          2494          0          3           228                 43                36.0                     65     23\n",
      "Alice         3637          0          0           199                 46                15.0                     58     20\n"
     ]
    }
   ],
   "source": [
    "# Manipulation Question solution below:\n",
    "\n",
    "# Group by Rep ID Column and calculate the sum\n",
    "df_rep_group = df.groupby('Rep ID').sum()\n",
    "\n",
    "# Sort the groups by the sum in descending order\n",
    "sorted_groups = df_rep_group.sort_values(by='Calls',ascending=False)\n",
    "\n",
    "# Display the sorted groups\n",
    "print(sorted_groups.to_string())\n",
    "\n",
    "\n"
   ]
  },
  {
   "cell_type": "markdown",
   "id": "7c29838c-1402-4e4b-94c9-050515d8dd18",
   "metadata": {},
   "source": [
    "##### Record your answer below\n",
    "Rep with the hightest number of calls and their total calls:\n",
    "- North Branch = Brent has 37 calls\n",
    "- South Branch = Eric has 35 calls"
   ]
  },
  {
   "cell_type": "markdown",
   "id": "809293b9",
   "metadata": {},
   "source": [
    "#### Manipulation Question 2:  The average call abandonment rate is a KPI when it comes to determining call center efficiency. As you may recall, abandoned calls are calls where the customer hangs up due to long call times. What is the average call abandonment rate for each branch and the whole company? Do any of these fall out of the optimal range of 2-5%?"
   ]
  },
  {
   "cell_type": "code",
   "execution_count": 17,
   "id": "3dff7534",
   "metadata": {},
   "outputs": [
    {
     "name": "stdout",
     "output_type": "stream",
     "text": [
      "North Branch Abandoned Calls True = 7\n",
      "South Branch Abandoned Calls True = 4\n",
      "Company Wide Abandoned Calls True = 11\n",
      "\n",
      "North Branch Abandoned Calls Total = 245\n",
      "South Branch Abandoned Calls = 314\n",
      "Company Wide Abandoned Calls = 559\n",
      "\n",
      " Average North Branch Abandoned Calls = 2.86\n",
      " Average South Branch Abandoned Calls = 1.27\n",
      " Average Company Wide Abandoned Calls = 1.97\n"
     ]
    }
   ],
   "source": [
    "# Manipulation Question 2 solution below:\n",
    "\n",
    "# Find how many abandoned calls from each call center\n",
    "north_df_call_abandonment_total = north_df['Abandoned'].count()\n",
    "south_df_call_abandonment_total = south_df['Abandoned'].count()\n",
    "company_wide_call_abandonment_total = df['Abandoned'].count()\n",
    "\n",
    "# Out of the abandoned calls which ones were true\n",
    "north_abandoned_calls = north_df[north_df['Abandoned'] == True]\n",
    "south_abandoned_calls = south_df[south_df['Abandoned'] == True]\n",
    "company_wide_abandoned_calls = df[df['Abandoned']== True]\n",
    "\n",
    "# Display Total ABANDONED Call Counts\n",
    "print(f\"North Branch Abandoned Calls True = \" + str(north_abandoned_calls['Abandoned'].count()))\n",
    "print(f\"South Branch Abandoned Calls True = \" + str(south_abandoned_calls['Abandoned'].count()))\n",
    "print(f\"Company Wide Abandoned Calls True = \" + str(company_wide_abandoned_calls['Abandoned'].count()))\n",
    "\n",
    "\n",
    "# Display Total Call Counts\n",
    "print(f\"\\nNorth Branch Abandoned Calls Total = \" + str(north_df_call_abandonment_total))\n",
    "print(f\"South Branch Abandoned Calls = \" + str(south_df_call_abandonment_total))\n",
    "print(f\"Company Wide Abandoned Calls = \" + str(company_wide_call_abandonment_total))\n",
    "\n",
    "\n",
    "north_branch_average = north_abandoned_calls['Abandoned'].count()/north_df_call_abandonment_total\n",
    "south_branch_average = south_abandoned_calls['Abandoned'].count()/south_df_call_abandonment_total\n",
    "company_wide_branch_average = company_wide_abandoned_calls['Abandoned'].count()/company_wide_call_abandonment_total\n",
    "\n",
    "print(f\"\\n Average North Branch Abandoned Calls = \" + str(round(north_branch_average*100,2)))\n",
    "print(f\" Average South Branch Abandoned Calls = \" + str(round(south_branch_average*100,2)))\n",
    "print(f\" Average Company Wide Abandoned Calls = \" + str(round(company_wide_branch_average*100,2)))\n"
   ]
  },
  {
   "cell_type": "markdown",
   "id": "c284596f-218f-4291-81b6-718ea5671feb",
   "metadata": {},
   "source": [
    "##### Record your answer below:\n",
    "Average Call Abandonment Rates (round to the nearest hundredth):\n",
    "- North Branch = 2.86%\n",
    "- South Branch = 1.27%\n",
    "- Company Wide = 1.97%\n",
    "- Do any of these fall out of the optimal range of 2-5%? \n",
    "  - South has a 1.2% avg abandonment rate that falls outside the 2-5 optimal range."
   ]
  },
  {
   "cell_type": "markdown",
   "id": "598bb1bf",
   "metadata": {},
   "source": [
    "#### Manipulation Question 3:  Service level is another KPI when it comes to measuring call center efficiency. Service level is the percentage of calls answered within a specific number of seconds. In the case of your employer, their ideal time frame is 2 seconds. What is the percentage of calls answered within 2 seconds for each branch and the entire company?"
   ]
  },
  {
   "cell_type": "code",
   "execution_count": 18,
   "id": "2fc8f669",
   "metadata": {},
   "outputs": [
    {
     "name": "stdout",
     "output_type": "stream",
     "text": [
      "North Total Calls = 245\n"
     ]
    },
    {
     "data": {
      "text/plain": [
       "None"
      ]
     },
     "metadata": {},
     "output_type": "display_data"
    },
    {
     "name": "stdout",
     "output_type": "stream",
     "text": [
      "South Total Calls = 314\n"
     ]
    },
    {
     "data": {
      "text/plain": [
       "None"
      ]
     },
     "metadata": {},
     "output_type": "display_data"
    },
    {
     "name": "stdout",
     "output_type": "stream",
     "text": [
      "Total Calls for Both Centers = 559\n"
     ]
    },
    {
     "data": {
      "text/plain": [
       "None"
      ]
     },
     "metadata": {},
     "output_type": "display_data"
    },
    {
     "name": "stdout",
     "output_type": "stream",
     "text": [
      "North Total Incoming Calls = 82\n"
     ]
    },
    {
     "data": {
      "text/plain": [
       "None"
      ]
     },
     "metadata": {},
     "output_type": "display_data"
    },
    {
     "name": "stdout",
     "output_type": "stream",
     "text": [
      "South Total Incoming Calls = 126\n"
     ]
    },
    {
     "data": {
      "text/plain": [
       "None"
      ]
     },
     "metadata": {},
     "output_type": "display_data"
    },
    {
     "name": "stdout",
     "output_type": "stream",
     "text": [
      "Total Incoming Calls for Both Centers = 208\n"
     ]
    },
    {
     "data": {
      "text/plain": [
       "None"
      ]
     },
     "metadata": {},
     "output_type": "display_data"
    },
    {
     "name": "stdout",
     "output_type": "stream",
     "text": [
      "Unnamed: 0               33\n",
      "Branch                   33\n",
      "Call Purpose             33\n",
      "Time Block               33\n",
      "Incoming or Outgoing     33\n",
      "Queue                    33\n",
      "Rep ID                   33\n",
      "Sale                     33\n",
      "Lost Call                33\n",
      "Abandoned                33\n",
      "Busy Minutes             33\n",
      "Not Ready Minutes        33\n",
      "Incoming Wait Time       33\n",
      "During Call Wait Time    33\n",
      "Calls                    33\n",
      "dtype: int64 Unnamed: 0               48\n",
      "Branch                   48\n",
      "Call Purpose             48\n",
      "Time Block               48\n",
      "Incoming or Outgoing     48\n",
      "Queue                    48\n",
      "Rep ID                   48\n",
      "Sale                     48\n",
      "Lost Call                48\n",
      "Abandoned                48\n",
      "Busy Minutes             48\n",
      "Not Ready Minutes        48\n",
      "Incoming Wait Time       48\n",
      "During Call Wait Time    48\n",
      "Calls                    48\n",
      "dtype: int64\n"
     ]
    },
    {
     "data": {
      "text/plain": [
       "None"
      ]
     },
     "metadata": {},
     "output_type": "display_data"
    },
    {
     "name": "stdout",
     "output_type": "stream",
     "text": [
      "Unnamed: 0               81\n",
      "Branch                   81\n",
      "Call Purpose             81\n",
      "Time Block               81\n",
      "Incoming or Outgoing     81\n",
      "Queue                    81\n",
      "Rep ID                   81\n",
      "Sale                     81\n",
      "Lost Call                81\n",
      "Abandoned                81\n",
      "Busy Minutes             81\n",
      "Not Ready Minutes        81\n",
      "Incoming Wait Time       81\n",
      "During Call Wait Time    81\n",
      "Calls                    81\n",
      "dtype: int64\n"
     ]
    }
   ],
   "source": [
    "# Manipulation Question 3 solution below:\n",
    "\n",
    "# Find total calls for individual branches and combined\n",
    "north_df_call_total_calls = north_df['Incoming or Outgoing'].count()\n",
    "south_df_call_total_calls = south_df['Incoming or Outgoing'].count()\n",
    "both_total_calls =  df['Incoming or Outgoing'].count()\n",
    "\n",
    "# Display Results of Total Calls\n",
    "display(print(f\"North Total Calls = \" + str(north_df_call_total_calls)))\n",
    "display(print(f\"South Total Calls = \" + str(south_df_call_total_calls)))\n",
    "display(print(f\"Total Calls for Both Centers = \" + str(both_total_calls)))\n",
    "\n",
    "# Find total amount of INCOMING calls for individual and combined branches\n",
    "north_incoming_calls = north_df[north_df['Incoming or Outgoing'] == 'Incoming']\n",
    "south_incoming_calls = south_df[south_df['Incoming or Outgoing'] == 'Incoming']\n",
    "both_incoming_calls = df[df['Incoming or Outgoing'] == 'Incoming']\n",
    "\n",
    "# Display Results of Total INCOMING Calls\n",
    "display(print(f\"North Total Incoming Calls = \" + str(north_incoming_calls[\"Incoming or Outgoing\"].count())))\n",
    "display(print(f\"South Total Incoming Calls = \"+ str(south_incoming_calls[\"Incoming or Outgoing\"].count())))\n",
    "display(print(f\"Total Incoming Calls for Both Centers = \" + str(both_incoming_calls[\"Incoming or Outgoing\"].count())))\n",
    "\n",
    "# Find total INCOMING where Incoming Wait Time is less than or equal to 2 seconds\n",
    "north_incoming_wait_less_than_2 = north_df[north_df['Incoming Wait Time'] <= 2].count()\n",
    "south_incoming_wait_less_than_2 = south_df[south_df['Incoming Wait Time'] <= 2].count()\n",
    "both_incoming_wait_less_than_2  =  df[df['Incoming Wait Time'] <= 2].count()\n",
    "\n",
    "display(print(north_incoming_wait_less_than_2,south_incoming_wait_less_than_2))\n",
    "\n",
    "print(both_incoming_wait_less_than_2)\n"
   ]
  },
  {
   "cell_type": "markdown",
   "id": "e3a4c9d9-4e11-4e1f-859a-d2c919f7d9ce",
   "metadata": {},
   "source": [
    "##### Record your answer below:\n",
    "Percentage of calls answered within 2 seconds, include # of calls:\n",
    "- North Branch = 40.24% with total of 33 Calls\n",
    "- South Branch = 38.10% with total of 48 Calls\n",
    "- Company Wide = 38.94% with total of 81 Calls"
   ]
  },
  {
   "cell_type": "markdown",
   "id": "7e19e705",
   "metadata": {},
   "source": [
    "#### Manipulation Question 4: For each branch and the entire company, what is the average speed of answer?"
   ]
  },
  {
   "cell_type": "code",
   "execution_count": 19,
   "id": "72a653ed",
   "metadata": {},
   "outputs": [
    {
     "name": "stdout",
     "output_type": "stream",
     "text": [
      "       Incoming Wait Time\n",
      "                     mean\n",
      "Branch                   \n",
      "North                3.05\n",
      "       Incoming Wait Time\n",
      "                     mean\n",
      "Branch                   \n",
      "South                 3.0\n",
      "\n",
      "Average Speed for Both Call Centers = 3.025\n"
     ]
    }
   ],
   "source": [
    "# Manipulation Question 4 solution below:\n",
    "\n",
    "# Use pivot table with mean aggregate to find North Average Speed of Answer\n",
    "pt_avg_answer_speed_north = north_df.pivot_table( index='Branch', \n",
    "                                    values=['Incoming Wait Time'], \n",
    "                                    aggfunc={'mean'} ).round(2)\n",
    "print(pt_avg_answer_speed_north)\n",
    "\n",
    "# Use pivot table with mean aggregate to find South Average Speed of Answer\n",
    "pt_avg_answer_speed_south = south_df.pivot_table( index='Branch', \n",
    "                                    values=['Incoming Wait Time'], \n",
    "                                    aggfunc={'mean'} ).round(2)\n",
    "print(pt_avg_answer_speed_south)\n",
    "\n",
    "# Use pivot table with mean aggregate to find Average Speed of Both\n",
    "pt_avg_answer_speed_both = f\"\\nAverage Speed for Both Call Centers = \" + str((3.05 + 3.0)/2)\n",
    "\n",
    "print(pt_avg_answer_speed_both)"
   ]
  },
  {
   "cell_type": "markdown",
   "id": "fb04c65b-442b-48e1-b22c-b2af8b835ffd",
   "metadata": {},
   "source": [
    "##### Record your answer by below:\n",
    "Average speed of answer (rounded to nearest hundredth):\n",
    "- North Branch in seconds = 3.05 seconds\n",
    "- South Branch in seconds = 3.00 seconds\n",
    "- Company Wide in seconds = 3.02 seconds"
   ]
  },
  {
   "cell_type": "markdown",
   "id": "d5f50a40",
   "metadata": {},
   "source": [
    "## Task 4: Visualization\n",
    "\n",
    "Create a visualization for each of the following questions. Some of the code to handle aggregating and storing data may be written for you. For each visualization, you choose the chart style that you feel suits the situation best. Make note of the chart style you chose and why. \n",
    "\n",
    "*NOTE Some questions you may decide to use more than one chart and or chart style."
   ]
  },
  {
   "cell_type": "markdown",
   "id": "66ccf83c",
   "metadata": {},
   "source": [
    "#### Visualization 1:  What is the average abandonment rate per queue?"
   ]
  },
  {
   "cell_type": "code",
   "execution_count": 20,
   "id": "c971d779",
   "metadata": {},
   "outputs": [
    {
     "name": "stdout",
     "output_type": "stream",
     "text": [
      "{'A': 0.041666666666666664, 'B': 0.020134228187919462, 'C': 0.007246376811594203, 'D': 0.017045454545454544}\n"
     ]
    },
    {
     "data": {
      "image/png": "[encoded data removed]",
      "text/plain": [
       "<Figure size 1000x600 with 1 Axes>"
      ]
     },
     "metadata": {},
     "output_type": "display_data"
    }
   ],
   "source": [
    "# Create visualization 1 here\n",
    "# Import any additional libraries needed with alias\n",
    "import seaborn as sns\n",
    "\n",
    "# The dictionary abandonment_rates has the data you need.\n",
    "abandonment_rates = {}\n",
    "queues = [\"A\", \"B\", \"C\", \"D\"]\n",
    "queue_dict = df.groupby(\"Queue\").agg(\"sum\")\n",
    "for i in range(4):\n",
    "    abandonment_rates[queues[i]] = queue_dict[\"Abandoned\"][i] / queue_dict[\"Calls\"][i] \n",
    "\n",
    "#Your code below:\n",
    "#print(queue_dict)\n",
    "print(abandonment_rates)\n",
    "\n",
    "plt.figure(figsize=(10,6))\n",
    "# queue v/s avg abandonment rate\n",
    "mychart = sns.barplot(data = abandonment_rates, color='purple')\n",
    "\n",
    "# Set axis labels\n",
    "plt.title('Queue \\n vs.\\n Average Abandonment Rate',fontdict = { 'fontsize': 18})\n",
    "plt.xlabel(str(\"Queue\"))\n",
    "plt.ylabel(str(\"Abandonment Rate\"))\n",
    "\n",
    "for i in mychart.containers:\n",
    "    mychart.bar_label(i,)\n",
    " \n",
    "# Show the plot\n",
    "plt.show()\n"
   ]
  },
  {
   "cell_type": "markdown",
   "id": "00a821e7-b296-4950-8889-dacf36ef37fb",
   "metadata": {},
   "source": [
    "##### Record your answer below:\n",
    "\n",
    "> Chart style you chose and why: I choose the bar plot chart style to visualize the data because I wanted a clear display of all 4 queues side by side to compare their rates."
   ]
  },
  {
   "cell_type": "markdown",
   "id": "4a9fc77f",
   "metadata": {},
   "source": [
    "#### Visualization 2: What is the service level percentage and average speed of answer for each rep in the North Branch?"
   ]
  },
  {
   "cell_type": "code",
   "execution_count": 21,
   "id": "61f65a7f",
   "metadata": {},
   "outputs": [
    {
     "name": "stdout",
     "output_type": "stream",
     "text": [
      "   Rep ID  Incoming Wait Time\n",
      "0  Amanda            2.400000\n",
      "1    Andy            3.600000\n",
      "2   Brent            2.125000\n",
      "3     Cam            2.909091\n",
      "4    Duke            2.785714\n",
      "5     Joe            3.600000\n",
      "6   Lilly            3.083333\n",
      "7    Todd            3.500000\n",
      "8  Xander            3.333333\n"
     ]
    },
    {
     "data": {
      "image/png": "[encoded data removed]",
      "text/plain": [
       "<Figure size 1000x600 with 1 Axes>"
      ]
     },
     "metadata": {},
     "output_type": "display_data"
    }
   ],
   "source": [
    "# Create visualization 2 here\n",
    "# north_plt contains the data you need for the average speed of answer of each rep\n",
    "\n",
    "north_plt = north_df.groupby(\"Rep ID\")[\"Incoming Wait Time\"].mean().to_frame().reset_index()\n",
    "\n",
    "# Finding each Rep's Personal Service Level Percentage.  Basically, Calls within 2 secs / total calls\n",
    "\n",
    "# Table 1: Total Incoming calls less than 2 seconds grouped by Rep\n",
    "quick_calls = north_df[north_df[\"Incoming Wait Time\"] <= 2.0]\n",
    "quick_reps = quick_calls[[\"Rep ID\", \"Calls\"]]\n",
    "quick_stats = quick_reps.groupby([\"Rep ID\"]).sum()  # Final Table\n",
    "\n",
    "\n",
    "# Table 2: Total Incoming Calls Only grouped by Rep\n",
    "total_calls_in = north_df[north_df[\"Incoming or Outgoing\"] == \"Incoming\"]\n",
    "rep_calls = total_calls_in[[\"Rep ID\", \"Calls\"]]     \n",
    "total_stats = rep_calls.groupby([\"Rep ID\"]).sum() # Final Table  \n",
    "\n",
    "#  Table 3: Service Level Percentage created via merge\n",
    "service_level = pd.merge(quick_stats, total_stats, on=\"Rep ID\")\n",
    "\n",
    "# Create Percentage Column in Table 3\n",
    "service_level[\"Service Level %\"] = service_level[\"Calls_x\"]/service_level[\"Calls_y\"] * 100\n",
    "\n",
    "#Your Code Here:\n",
    "print(north_plt)\n",
    "\n",
    "plt.figure(figsize=(10,6))\n",
    "\n",
    "sns.scatterplot(s=200, data = north_plt)\n",
    "\n",
    "# Set axis labels\n",
    "plt.title('Service Level & Avg Speed By Rep',fontdict = { 'fontsize': 18})\n",
    "plt.xlabel(str(\"Rep ID\"))\n",
    "plt.ylabel(str(\"Average Speed\"))\n",
    "\n",
    "plt.show()"
   ]
  },
  {
   "cell_type": "markdown",
   "id": "4d4cad4d-f9fb-4927-8a45-4b5cd17edd3a",
   "metadata": {},
   "source": [
    "##### Record your answer below:\n",
    "\n",
    "> Chart style you chose and why: I choose to use a seaborn scatterplot chart type because their were multiple variables to track for every representative."
   ]
  },
  {
   "cell_type": "markdown",
   "id": "f965e41a",
   "metadata": {},
   "source": [
    "#### Visualization 3: For each type of call purpose, how many calls are outgoing vs. incoming?"
   ]
  },
  {
   "cell_type": "code",
   "execution_count": 22,
   "id": "44096730",
   "metadata": {},
   "outputs": [
    {
     "data": {
      "image/png": "[encoded data removed]",
      "text/plain": [
       "<Figure size 1000x600 with 1 Axes>"
      ]
     },
     "metadata": {},
     "output_type": "display_data"
    }
   ],
   "source": [
    "# Create visualization 3 here:\n",
    "# The three dictionaries, complaints, sales_support, and product_support, have the information you need\n",
    "\n",
    "purpose_group = df.groupby(\"Call Purpose\")\n",
    "call_purpose = [\"Complaint\", \"Product Support\", \"Sales Support\"]\n",
    "purpose_counts = purpose_group[\"Incoming or Outgoing\"].value_counts()\n",
    "\n",
    "\n",
    "complaints = purpose_counts[\"Complaint\"].to_dict()\n",
    "sales_support = purpose_counts[\"Sales Support\"].to_dict()\n",
    "product_support = purpose_counts[\"Product Support\"].to_dict()\n",
    "\n",
    "# Set Size\n",
    "plt.figure(figsize=(10,6))\n",
    "\n",
    "#create grouped bar chart\n",
    "sns.barplot(x='Call Purpose', y='Calls', hue='Incoming or Outgoing', data=df, palette=['purple', 'steelblue']) \n",
    "plt.title('Incoming & Outgoing Calls \\n by Call Purpose',fontdict = { 'fontsize': 18})\n",
    "plt.xticks(rotation=45)\n",
    "\n",
    "plt.show()"
   ]
  },
  {
   "cell_type": "markdown",
   "id": "9198bbe4-44ef-4e21-bd40-6ace8e9f7694",
   "metadata": {},
   "source": [
    "##### Record your answer below:\n",
    "\n",
    "> Chart style you chose and why: "
   ]
  },
  {
   "cell_type": "markdown",
   "id": "ea7ed568",
   "metadata": {},
   "source": [
    "## Task 5: Summarize Your Work\n",
    "\n",
    "With what you know now about the two call centers and the entire company, answer the following questions. Note that while this is subjective, you should include relevant data to back up your opinion.\n"
   ]
  },
  {
   "cell_type": "markdown",
   "id": "d2fc3d13",
   "metadata": {},
   "source": [
    "#### Summary Question 1:  Using KPIs such as average abandonment rate, service level and average speed of answer, in your opinion, which one of the two branches is operating more efficiently? Why?\n",
    "\n",
    "##### Record your answer below:\n",
    "> Your Answer: \n",
    "After my analysis I believe the branch that is operating the most efficiently is the South Branch. Specifically, this branch has the lower average abandonment rate at 1.27% and the branch's average answer speed is quicker at 3.0%. After analysis these statistics show that the South Branch is the more efficient call center.\n"
   ]
  },
  {
   "cell_type": "markdown",
   "id": "489f28d6",
   "metadata": {},
   "source": [
    "#### Summary Question 2: Based on the number of reps in each branch and how quickly the reps are working, in your opinion, which branch would benefit from the extra help?\n",
    "\n",
    "##### Record your answer below:\n",
    "> Your Answer: \n",
    "Based on the number of reps in each branch 9 in the North center and 11 in the South center and the number of calls each branch handles, I think that the North branch would benefit from the extra help."
   ]
  },
  {
   "cell_type": "markdown",
   "id": "0b10a8c3",
   "metadata": {},
   "source": [
    "#### Summary Question 3: Now that you have explored the datasets, is there any data or information that you wish you had in this analysis?\n",
    "\n",
    "##### Record your answer below:\n",
    "> Your Answer: \n",
    "I wish I had more historical for both branches so I could compare and determine trends.\n"
   ]
  },
  {
   "cell_type": "markdown",
   "id": "ce16f43d",
   "metadata": {},
   "source": [
    "## Bonus Mission\n",
    "Create a visualization that answers this question: For each call purpose, how many calls (incoming and outgoing) take place in each time block?\n",
    "##### Record your answer below:\n",
    "\n",
    "> Chart style you chose and why: "
   ]
  },
  {
   "cell_type": "code",
   "execution_count": 23,
   "id": "71b04f32",
   "metadata": {},
   "outputs": [],
   "source": [
    "# Create your Bonus Mission visualization here!\n",
    "call_times = df[[\"Time Block\", \"Call Purpose\", \"Incoming or Outgoing\", \"Calls\"]]\n",
    "\n",
    "# Use groupby to plot based on time blocks:\n",
    "\n",
    "# Use groupby and get_group to select which call purpose to plot:"
   ]
  }
 ],
 "metadata": {
  "kernelspec": {
   "display_name": "Python 3",
   "language": "python",
   "name": "python3"
  },
  "language_info": {
   "codemirror_mode": {
    "name": "ipython",
    "version": 3
   },
   "file_extension": ".py",
   "mimetype": "text/x-python",
   "name": "python",
   "nbconvert_exporter": "python",
   "pygments_lexer": "ipython3",
   "version": "3.10.3"
  }
 },
 "nbformat": 4,
 "nbformat_minor": 5
}
